{
 "cells": [
  {
   "cell_type": "markdown",
   "metadata": {},
   "source": [
    "TensorFlow是谷歌研发的第二代人工智能学习系统，其命名来源于本身的运行原理。Tensor也叫张量，即所谓的N维数组；Flow也叫流，即所谓基于数据流图的计算；TensorFlow为张量从流图的一端流动到另一端的计算过程。TensorFlow将复杂的数据结构传输至人工智能神经网中进行分析和处理。\n",
    "\n",
    "把算法表示成一个个操作的叠加，可以非常清晰地看到数据之间的关系，而且这样的基本操作也具有普遍性。在TensorFlow中，当数据流过操作节点的时候就可以对数据进行操作。一个操作可以有零个或多个输入，产生零个或多个输出。一个操作可能是一次数学计算，一个变量或常量，一个数据流走向控制，一次文件IO或者是一次网络通信。其中，一个常量可以看成没有输入、只有一个固定输出的操作。\n",
    "\n",
    "在计算图中，每个边就代表数据从一个操作流到另一个操作。这些数据被表示为张量，一个张量可以看成多维的数组或者高维的矩阵。关于TensorFlow中的张量，需要注意的是张量本身并没有保存任何值，张量仅仅提供了访问数值的一个接口，可以看成数值的一种引用。在TensorFlow实际使用中我们也可以发现，在run之前的张量并没有分配空间，此时的张量仅仅表示了一种数值的抽象，用来连接不同的节点，表示数据在不同操作之间的流动。(相当于只是先分配了一个名额，等实际用到时，才会给你实际赋值)\n",
    "\n",
    "变量是计算图中可以改变的节点。比如当计算权重的时候，随着迭代的进行，每次权重的值会发生相应的变化，这样的值就可以当作变量。在实际处理时，一般把需要训练的值指定为变量。在使用变量的时候，需要指定变量的初始值，变量的大小和数据类型就是根据初始值来推断的。\n",
    "\n",
    "在TensorFlow中，所有操作都必须在会话（session）中执行，会话负责分配和管理各种资源。在会话中提供了一个run方法，可以用它来执行计算图整体或者其中的一部分节点。在执行run方法时，还需要用feed_dict把相关数据输入到计算图。当run被调用时，TensorFlow将会从指定的输出节点开始，向前查找所有的依赖节点，所有依赖节点都将被执行。这些操作随后将被分配到物理执行单元上（比如CPU或GPU），这种分配规则由TensorFlow中的分配算法决定。（实际是为每个会话分配了独立的内存空间）\n",
    "\n",
    "TensorFlow与Scikit-Learn的区别除了支撑的算法不一样，还有一个重要的区别——TensorFlow天生支持分布式和异构计算环境，从单机到集群，从CPU到GPU都支持良好。\n",
    "\n",
    "TensorFlow也支持分布式架构，从MAC本到CPU服务器、GPU服务器、GPU集群甚至是神秘的TPU集群都支持。"
   ]
  },
  {
   "cell_type": "code",
   "execution_count": 1,
   "metadata": {
    "ExecuteTime": {
     "end_time": "2018-11-11T11:43:02.150548Z",
     "start_time": "2018-11-11T11:42:56.368876Z"
    }
   },
   "outputs": [
    {
     "name": "stderr",
     "output_type": "stream",
     "text": [
      "Using TensorFlow backend.\n"
     ]
    }
   ],
   "source": [
    "from keras.datasets import mnist\n",
    "import tensorflow as tf\n",
    "import numpy as np"
   ]
  },
  {
   "cell_type": "code",
   "execution_count": 2,
   "metadata": {
    "ExecuteTime": {
     "end_time": "2018-11-11T11:43:02.165448Z",
     "start_time": "2018-11-11T11:43:02.158060Z"
    }
   },
   "outputs": [],
   "source": [
    "def get_onehot(y, size=10):\n",
    "    y_hot = []\n",
    "    y_ = []\n",
    "    for i in y:\n",
    "        y_ = [0] * size\n",
    "        y_[i-1] = 1\n",
    "        y_hot.append(y_)\n",
    "        y_ = []\n",
    "    return np.array(y_hot)"
   ]
  },
  {
   "cell_type": "code",
   "execution_count": 3,
   "metadata": {
    "ExecuteTime": {
     "end_time": "2018-11-11T11:43:03.517225Z",
     "start_time": "2018-11-11T11:43:02.169061Z"
    }
   },
   "outputs": [],
   "source": [
    "mnist_train, mnist_test = mnist.load_data()\n",
    "X_train = mnist_train[0].reshape(mnist_train[0].shape[0], mnist_train[0].shape[1] * mnist_train[0].shape[2]) / 255.0\n",
    "y_train = get_onehot(mnist_train[1])\n",
    "X_test = mnist_test[0].reshape(mnist_test[0].shape[0], mnist_test[0].shape[1] * mnist_test[0].shape[2]) / 255.0\n",
    "y_test = get_onehot(mnist_test[1])"
   ]
  },
  {
   "cell_type": "code",
   "execution_count": 4,
   "metadata": {
    "ExecuteTime": {
     "end_time": "2018-11-11T11:43:03.554999Z",
     "start_time": "2018-11-11T11:43:03.520245Z"
    }
   },
   "outputs": [],
   "source": [
    "# 定义输入和输出，使用函数placeholder占位\n",
    "\n",
    "X = tf.placeholder(\"float\", [None, 784])\n",
    "y_ = tf.placeholder(\"float\", [None, 10])"
   ]
  },
  {
   "cell_type": "code",
   "execution_count": 5,
   "metadata": {
    "ExecuteTime": {
     "end_time": "2018-11-11T11:43:03.579647Z",
     "start_time": "2018-11-11T11:43:03.557709Z"
    }
   },
   "outputs": [],
   "source": [
    "# 定义初始化权重矩阵和截距\n",
    "\n",
    "W = tf.Variable(tf.ones([784, 10]))\n",
    "b = tf.Variable(tf.ones([10]))"
   ]
  },
  {
   "cell_type": "code",
   "execution_count": 6,
   "metadata": {
    "ExecuteTime": {
     "end_time": "2018-11-11T11:43:03.591852Z",
     "start_time": "2018-11-11T11:43:03.582476Z"
    }
   },
   "outputs": [],
   "source": [
    "# 定义预测函数，y是预测值，y_是真实值\n",
    "\n",
    "y = tf.nn.softmax(tf.matmul(X, W) + b)"
   ]
  },
  {
   "cell_type": "code",
   "execution_count": 7,
   "metadata": {
    "ExecuteTime": {
     "end_time": "2018-11-11T11:43:03.654273Z",
     "start_time": "2018-11-11T11:43:03.595633Z"
    }
   },
   "outputs": [],
   "source": [
    "# 定义损失函数和优化算法\n",
    "\n",
    "cross_entropy = -tf.reduce_sum(y_ * tf.log(y))\n",
    "train_step = tf.train.GradientDescentOptimizer(0.01).minimize(cross_entropy)"
   ]
  },
  {
   "cell_type": "code",
   "execution_count": 8,
   "metadata": {
    "ExecuteTime": {
     "end_time": "2018-11-11T11:43:03.702210Z",
     "start_time": "2018-11-11T11:43:03.664870Z"
    }
   },
   "outputs": [],
   "source": [
    "# 初始化变量并定义会话，每个会话都独立\n",
    "\n",
    "init = tf.global_variables_initializer()\n",
    "sess = tf.Session()\n",
    "sess.run(init)"
   ]
  },
  {
   "cell_type": "code",
   "execution_count": 9,
   "metadata": {
    "ExecuteTime": {
     "end_time": "2018-11-11T11:43:03.716521Z",
     "start_time": "2018-11-11T11:43:03.712195Z"
    }
   },
   "outputs": [],
   "source": [
    "# 定义batchsize，使用小批量随机梯度进行优化迭代，理想情况，应使用所有全量数据一次性计算梯度，但数据量超大情况下，计算量显而易见\n",
    "\n",
    "batchsize = 100"
   ]
  },
  {
   "cell_type": "code",
   "execution_count": 10,
   "metadata": {
    "ExecuteTime": {
     "end_time": "2018-11-11T11:43:05.434403Z",
     "start_time": "2018-11-11T11:43:03.720396Z"
    }
   },
   "outputs": [],
   "source": [
    "for i in range(0, len(X_train), batchsize):\n",
    "    batch_xs = X_train[i:(i+batchsize)]\n",
    "    batch_ys = y_train[i:(i+batchsize)]\n",
    "    # 迭代计算损失\n",
    "    sess.run(train_step, feed_dict={X:batch_xs, y_:batch_ys})"
   ]
  },
  {
   "cell_type": "code",
   "execution_count": 11,
   "metadata": {
    "ExecuteTime": {
     "end_time": "2018-11-11T11:43:05.621162Z",
     "start_time": "2018-11-11T11:43:05.446921Z"
    }
   },
   "outputs": [
    {
     "name": "stdout",
     "output_type": "stream",
     "text": [
      "0.897\n"
     ]
    }
   ],
   "source": [
    "# 验证正确率\n",
    "\n",
    "correct_prediction = tf.equal(tf.argmax(y,1), tf.argmax(y_,1))\n",
    "accuracy = tf.reduce_mean(tf.cast(correct_prediction, tf.float32)) # 转换数据类型\n",
    "# 计算准确率\n",
    "print(sess.run(accuracy, feed_dict={X: X_test, y_: y_test}))"
   ]
  },
  {
   "cell_type": "code",
   "execution_count": 12,
   "metadata": {
    "ExecuteTime": {
     "end_time": "2018-11-11T11:43:05.633333Z",
     "start_time": "2018-11-11T11:43:05.624425Z"
    }
   },
   "outputs": [],
   "source": [
    "# 定义输入，输出和dropout\n",
    "\n",
    "X = tf.placeholder(\"float\", [None, 784])\n",
    "y_ = tf.placeholder(\"float\", [None, 10])\n",
    "keep_prob = tf.placeholder(tf.float32)"
   ]
  },
  {
   "cell_type": "code",
   "execution_count": 13,
   "metadata": {
    "ExecuteTime": {
     "end_time": "2018-11-11T11:43:05.670652Z",
     "start_time": "2018-11-11T11:43:05.636057Z"
    }
   },
   "outputs": [],
   "source": [
    "# 定义权重，截距和隐层\n",
    "\n",
    "in_units = 784\n",
    "h1_units = 300\n",
    "\n",
    "W1 = tf.Variable(tf.truncated_normal([in_units, h1_units], stddev=0.1))\n",
    "b1 = tf.Variable(tf.zeros([h1_units]))\n",
    "W2 = tf.Variable(tf.zeros([h1_units, 10]))\n",
    "b2 = tf.Variable(tf.zeros([10]))"
   ]
  },
  {
   "cell_type": "code",
   "execution_count": 14,
   "metadata": {
    "ExecuteTime": {
     "end_time": "2018-11-11T11:43:05.693757Z",
     "start_time": "2018-11-11T11:43:05.674473Z"
    }
   },
   "outputs": [],
   "source": [
    "# 定义激活函数、dropout和预测函数\n",
    "\n",
    "hidden1 = tf.nn.relu(tf.matmul(X, W1) + b1)\n",
    "hidden1_drop = tf.nn.dropout(hidden1, keep_prob)\n",
    "y = tf.nn.softmax(tf.matmul(hidden1_drop, W2) + b2)"
   ]
  },
  {
   "cell_type": "code",
   "execution_count": 15,
   "metadata": {
    "ExecuteTime": {
     "end_time": "2018-11-11T11:43:05.845553Z",
     "start_time": "2018-11-11T11:43:05.696280Z"
    }
   },
   "outputs": [],
   "source": [
    "# 定义损失函数，和优化函数\n",
    "\n",
    "cross_entropy = tf.reduce_mean(-tf.reduce_sum(y_ * tf.log(y), axis=1))\n",
    "train_step = tf.train.AdagradOptimizer(0.3).minimize(cross_entropy)"
   ]
  },
  {
   "cell_type": "code",
   "execution_count": 16,
   "metadata": {
    "ExecuteTime": {
     "end_time": "2018-11-11T11:43:05.947161Z",
     "start_time": "2018-11-11T11:43:05.848612Z"
    }
   },
   "outputs": [],
   "source": [
    "# 初始化变量并定义会话\n",
    "\n",
    "init = tf.global_variables_initializer()\n",
    "sess = tf.Session()\n",
    "sess.run(init)"
   ]
  },
  {
   "cell_type": "code",
   "execution_count": 17,
   "metadata": {
    "ExecuteTime": {
     "end_time": "2018-11-11T11:43:13.498675Z",
     "start_time": "2018-11-11T11:43:05.949481Z"
    }
   },
   "outputs": [],
   "source": [
    "# 定义小批量梯度下降\n",
    "\n",
    "batchsize = 100\n",
    "\n",
    "for i in range(0, len(X_train), batchsize):\n",
    "    batch_xs = X_train[i:i+batchsize]\n",
    "    batch_ys = y_train[i:i+batchsize]\n",
    "    sess.run(train_step, feed_dict={X:batch_xs, y_:batch_ys, keep_prob:0.8})"
   ]
  },
  {
   "cell_type": "code",
   "execution_count": 18,
   "metadata": {
    "ExecuteTime": {
     "end_time": "2018-11-11T11:43:13.877212Z",
     "start_time": "2018-11-11T11:43:13.501420Z"
    }
   },
   "outputs": [
    {
     "name": "stdout",
     "output_type": "stream",
     "text": [
      "0.9538\n"
     ]
    }
   ],
   "source": [
    "# 验证\n",
    "\n",
    "correct_prediction = tf.equal(tf.argmax(y,1), tf.argmax(y_,1))\n",
    "accuracy = tf.reduce_mean(tf.cast(correct_prediction, tf.float32))\n",
    "print(sess.run(accuracy, feed_dict={X: X_test, y_: y_test, keep_prob: 1.0}))"
   ]
  },
  {
   "cell_type": "code",
   "execution_count": 19,
   "metadata": {
    "ExecuteTime": {
     "end_time": "2018-11-11T11:43:13.891105Z",
     "start_time": "2018-11-11T11:43:13.880245Z"
    }
   },
   "outputs": [],
   "source": [
    "X = tf.placeholder(\"float\", [None, 784])\n",
    "y_ = tf.placeholder(\"float\", [None, 10])\n",
    "keep_prob = tf.placeholder(\"float\")"
   ]
  },
  {
   "cell_type": "code",
   "execution_count": 20,
   "metadata": {
    "ExecuteTime": {
     "end_time": "2018-11-11T11:43:13.948173Z",
     "start_time": "2018-11-11T11:43:13.894586Z"
    }
   },
   "outputs": [],
   "source": [
    "in_units = 784\n",
    "h1_units = 300\n",
    "h2_units = 200\n",
    "h3_units = 100\n",
    "\n",
    "W1 = tf.Variable(tf.truncated_normal([in_units, h1_units], stddev=0.1))\n",
    "b1 = tf.Variable(tf.zeros([h1_units]))\n",
    "W2 = tf.Variable(tf.zeros([h1_units, h2_units]))\n",
    "b2 = tf.Variable(tf.zeros([h2_units]))\n",
    "W3 = tf.Variable(tf.zeros([h2_units, h3_units]))\n",
    "b3 = tf.Variable(tf.zeros([h3_units]))\n",
    "W4 = tf.Variable(tf.zeros([h3_units, 10]))\n",
    "b4 = tf.Variable(tf.zeros([10]))"
   ]
  },
  {
   "cell_type": "code",
   "execution_count": 21,
   "metadata": {
    "ExecuteTime": {
     "end_time": "2018-11-11T11:43:13.974851Z",
     "start_time": "2018-11-11T11:43:13.950486Z"
    }
   },
   "outputs": [],
   "source": [
    "hidden1 = tf.nn.relu(tf.matmul(X, W1) + b1)\n",
    "hidden2 = tf.nn.relu(tf.matmul(hidden1, W2) + b2)\n",
    "hidden3 = tf.nn.relu(tf.matmul(hidden2, W3) + b3)\n",
    "hidden_drop = tf.nn.dropout(hidden3, keep_prob)\n",
    "y = tf.nn.softmax(tf.matmul(hidden_drop, W4) + b4)"
   ]
  },
  {
   "cell_type": "code",
   "execution_count": 22,
   "metadata": {
    "ExecuteTime": {
     "end_time": "2018-11-11T11:43:14.159542Z",
     "start_time": "2018-11-11T11:43:13.977895Z"
    }
   },
   "outputs": [],
   "source": [
    "cross_entropy = tf.reduce_mean(-tf.reduce_sum(y_ * tf.log(y), axis=1))\n",
    "train_step = tf.train.AdagradOptimizer(0.3).minimize(cross_entropy)"
   ]
  },
  {
   "cell_type": "code",
   "execution_count": 23,
   "metadata": {
    "ExecuteTime": {
     "end_time": "2018-11-11T11:43:14.353755Z",
     "start_time": "2018-11-11T11:43:14.162494Z"
    }
   },
   "outputs": [],
   "source": [
    "init = tf.global_variables_initializer()\n",
    "sess = tf.Session()\n",
    "sess.run(init)"
   ]
  },
  {
   "cell_type": "code",
   "execution_count": 24,
   "metadata": {
    "ExecuteTime": {
     "end_time": "2018-11-11T11:43:23.620699Z",
     "start_time": "2018-11-11T11:43:14.358396Z"
    }
   },
   "outputs": [],
   "source": [
    "batchsize = 100\n",
    "\n",
    "for i in range(0,len(X_train), batchsize):\n",
    "    batch_xs = X_train[i:i+batchsize]\n",
    "    batch_ys = y_train[i:i+batchsize]\n",
    "    sess.run(train_step, feed_dict={X: batch_xs, y_: batch_ys, keep_prob: 0.5})"
   ]
  },
  {
   "cell_type": "code",
   "execution_count": 25,
   "metadata": {
    "ExecuteTime": {
     "end_time": "2018-11-11T11:43:23.986887Z",
     "start_time": "2018-11-11T11:43:23.622977Z"
    }
   },
   "outputs": [
    {
     "name": "stdout",
     "output_type": "stream",
     "text": [
      "0.1028\n"
     ]
    }
   ],
   "source": [
    "correct_prediction = tf.equal(tf.argmax(y,1), tf.argmax(y_,1))\n",
    "accuracy = tf.reduce_mean(tf.cast(correct_prediction, tf.float32))\n",
    "print(sess.run(accuracy, feed_dict={X: X_test, y_: y_test, keep_prob: 1.0}))"
   ]
  },
  {
   "cell_type": "markdown",
   "metadata": {},
   "source": [
    "当数据量不大时，SVM的效果很有可能优于深度学习。"
   ]
  },
  {
   "attachments": {
    "spambase.png": {
     "image/png": "[encoded data removed]"
    }
   },
   "cell_type": "markdown",
   "metadata": {
    "ExecuteTime": {
     "end_time": "2018-11-11T04:44:21.738041Z",
     "start_time": "2018-11-11T04:44:21.730183Z"
    }
   },
   "source": [
    "垃圾邮件的危害：\n",
    "\n",
    "* 占用网络带宽，造成邮件服务器拥塞，进而降低整个网络的运行效率。\n",
    "* 侵犯收件人的隐私权，侵占收件人信箱空间，耗费收件人的时间、精力和金钱。\n",
    "* 被黑客利用成为助纣为虐的工具。\n",
    "* 严重影响ISP的服务形。\n",
    "* 妖言惑众、骗人钱财、传播色情等内容的垃圾邮件，已经对现实社会造成了危害。\n",
    "\n",
    "我们使用SpamBase这个入门级的垃圾邮件分类训练集来测试。SpamBase的数据不是原始的邮件内容而是已经特征化的数据，对应的特征是统计的关键字以及特殊符号的词频，一共58个属性，其中最后一个是垃圾邮件的标记位。\n",
    "\n",
    "![spambase.png](attachment:spambase.png)"
   ]
  },
  {
   "cell_type": "code",
   "execution_count": 26,
   "metadata": {
    "ExecuteTime": {
     "end_time": "2018-11-11T11:43:24.772536Z",
     "start_time": "2018-11-11T11:43:23.990349Z"
    }
   },
   "outputs": [],
   "source": [
    "import numpy as np\n",
    "import pandas as pd\n",
    "from sklearn.naive_bayes import MultinomialNB\n",
    "from sklearn.model_selection import train_test_split"
   ]
  },
  {
   "cell_type": "code",
   "execution_count": 27,
   "metadata": {
    "ExecuteTime": {
     "end_time": "2018-11-11T11:43:24.923667Z",
     "start_time": "2018-11-11T11:43:24.774996Z"
    }
   },
   "outputs": [],
   "source": [
    "filename1 = './数据集/spambase/spambase.names'\n",
    "f1 = open(filename1)\n",
    "spambase_names = []\n",
    "for line in f1.readlines()[33:]:\n",
    "    spambase_names.append(line.split(':')[0])\n",
    "\n",
    "spambase_names.append('label')\n",
    "\n",
    "filename2 = './数据集/spambase/spambase.data'\n",
    "spambase_features = pd.read_csv(filename2, names=spambase_names)"
   ]
  },
  {
   "cell_type": "code",
   "execution_count": 28,
   "metadata": {
    "ExecuteTime": {
     "end_time": "2018-11-11T11:43:24.971934Z",
     "start_time": "2018-11-11T11:43:24.935355Z"
    }
   },
   "outputs": [],
   "source": [
    "X_train, X_test, y_train, y_test = train_test_split(spambase_features[spambase_features.columns[:-1]], spambase_features['label'])"
   ]
  },
  {
   "cell_type": "code",
   "execution_count": 29,
   "metadata": {
    "ExecuteTime": {
     "end_time": "2018-11-11T11:43:25.004776Z",
     "start_time": "2018-11-11T11:43:24.975870Z"
    }
   },
   "outputs": [
    {
     "data": {
      "text/plain": [
       "MultinomialNB(alpha=1.0, class_prior=None, fit_prior=True)"
      ]
     },
     "execution_count": 29,
     "metadata": {},
     "output_type": "execute_result"
    }
   ],
   "source": [
    "mnb = MultinomialNB()\n",
    "mnb.fit(X_train, y_train)"
   ]
  },
  {
   "cell_type": "code",
   "execution_count": 30,
   "metadata": {
    "ExecuteTime": {
     "end_time": "2018-11-11T11:43:25.020119Z",
     "start_time": "2018-11-11T11:43:25.010084Z"
    }
   },
   "outputs": [
    {
     "data": {
      "text/plain": [
       "0.7932232841007819"
      ]
     },
     "execution_count": 30,
     "metadata": {},
     "output_type": "execute_result"
    }
   ],
   "source": [
    "mnb.score(X_test, y_test)"
   ]
  },
  {
   "cell_type": "code",
   "execution_count": 31,
   "metadata": {
    "ExecuteTime": {
     "end_time": "2018-11-11T11:43:25.040649Z",
     "start_time": "2018-11-11T11:43:25.025802Z"
    }
   },
   "outputs": [],
   "source": [
    "y_train1 = get_onehot(y_train, size=2)\n",
    "y_test1 = get_onehot(y_test, size=2)"
   ]
  },
  {
   "cell_type": "code",
   "execution_count": 32,
   "metadata": {
    "ExecuteTime": {
     "end_time": "2018-11-11T11:43:25.059746Z",
     "start_time": "2018-11-11T11:43:25.047919Z"
    }
   },
   "outputs": [],
   "source": [
    "X = tf.placeholder(\"float\", [None, 57])\n",
    "y_ = tf.placeholder(\"float\", [None, 2])\n",
    "keep_prob = tf.placeholder(\"float\")"
   ]
  },
  {
   "cell_type": "code",
   "execution_count": 33,
   "metadata": {
    "ExecuteTime": {
     "end_time": "2018-11-11T11:43:25.119901Z",
     "start_time": "2018-11-11T11:43:25.065875Z"
    }
   },
   "outputs": [],
   "source": [
    "in_units = 57\n",
    "h1_units = 30\n",
    "h2_units = 15\n",
    "ou_units = 2\n",
    "\n",
    "W1 = tf.Variable(tf.truncated_normal([in_units, h1_units], stddev=0.1))\n",
    "b1 = tf.Variable(tf.zeros([h1_units]))\n",
    "W2 = tf.Variable(tf.zeros([h1_units, h2_units]))\n",
    "b2 = tf.Variable(tf.zeros([h2_units]))\n",
    "W3 = tf.Variable(tf.zeros([h2_units, ou_units]))\n",
    "b3 = tf.Variable(tf.zeros([ou_units]))"
   ]
  },
  {
   "cell_type": "code",
   "execution_count": 34,
   "metadata": {
    "ExecuteTime": {
     "end_time": "2018-11-11T11:43:25.154380Z",
     "start_time": "2018-11-11T11:43:25.121997Z"
    }
   },
   "outputs": [],
   "source": [
    "hidden1 = tf.nn.relu(tf.matmul(X, W1) + b1)\n",
    "hidden2 = tf.nn.relu(tf.matmul(hidden1, W2) + b2)\n",
    "hidden_drop = tf.nn.dropout(hidden2, keep_prob)\n",
    "y = tf.nn.softmax(tf.matmul(hidden_drop, W3) + b3)"
   ]
  },
  {
   "cell_type": "code",
   "execution_count": 35,
   "metadata": {
    "ExecuteTime": {
     "end_time": "2018-11-11T11:43:25.787370Z",
     "start_time": "2018-11-11T11:43:25.159023Z"
    }
   },
   "outputs": [],
   "source": [
    "cross_entropy = tf.reduce_mean(-tf.reduce_sum(y_ * tf.log(y) , axis=1))\n",
    "train_step = tf.train.AdamOptimizer(0.1).minimize(cross_entropy)"
   ]
  },
  {
   "cell_type": "code",
   "execution_count": 36,
   "metadata": {
    "ExecuteTime": {
     "end_time": "2018-11-11T11:43:26.349247Z",
     "start_time": "2018-11-11T11:43:25.789827Z"
    }
   },
   "outputs": [],
   "source": [
    "init = tf.global_variables_initializer()\n",
    "sess = tf.Session()\n",
    "sess.run(init)"
   ]
  },
  {
   "cell_type": "code",
   "execution_count": 37,
   "metadata": {
    "ExecuteTime": {
     "end_time": "2018-11-11T11:43:27.081911Z",
     "start_time": "2018-11-11T11:43:26.355201Z"
    }
   },
   "outputs": [],
   "source": [
    "sess.run(train_step, feed_dict={X: X_train, y_: y_train1, keep_prob: 0.5})"
   ]
  },
  {
   "cell_type": "code",
   "execution_count": 38,
   "metadata": {
    "ExecuteTime": {
     "end_time": "2018-11-11T11:43:27.282328Z",
     "start_time": "2018-11-11T11:43:27.084895Z"
    }
   },
   "outputs": [
    {
     "data": {
      "text/plain": [
       "0.58992183"
      ]
     },
     "execution_count": 38,
     "metadata": {},
     "output_type": "execute_result"
    }
   ],
   "source": [
    "correct_prediction = tf.equal(tf.argmax(y,1), tf.argmax(y_,1))\n",
    "accuracy = tf.reduce_mean(tf.cast(correct_prediction, tf.float32))\n",
    "sess.run(accuracy, feed_dict={X: X_test, y_: y_test1, keep_prob: 1.0})"
   ]
  },
  {
   "cell_type": "code",
   "execution_count": 39,
   "metadata": {
    "ExecuteTime": {
     "end_time": "2018-11-11T11:43:38.382696Z",
     "start_time": "2018-11-11T11:43:27.285537Z"
    }
   },
   "outputs": [
    {
     "name": "stdout",
     "output_type": "stream",
     "text": [
      "WARNING:tensorflow:From <ipython-input-39-a801d63733fa>:1: infer_real_valued_columns_from_input (from tensorflow.contrib.learn.python.learn.estimators.estimator) is deprecated and will be removed in a future version.\n",
      "Instructions for updating:\n",
      "Please specify feature columns explicitly.\n",
      "WARNING:tensorflow:From /Users/johnnie/anaconda3/lib/python3.6/site-packages/tensorflow/contrib/learn/python/learn/estimators/estimator.py:143: setup_train_data_feeder (from tensorflow.contrib.learn.python.learn.learn_io.data_feeder) is deprecated and will be removed in a future version.\n",
      "Instructions for updating:\n",
      "Please use tensorflow/transform or tf.data.\n",
      "WARNING:tensorflow:From /Users/johnnie/anaconda3/lib/python3.6/site-packages/tensorflow/contrib/learn/python/learn/learn_io/data_feeder.py:96: extract_dask_data (from tensorflow.contrib.learn.python.learn.learn_io.dask_io) is deprecated and will be removed in a future version.\n",
      "Instructions for updating:\n",
      "Please feed input to tf.data to support dask.\n",
      "WARNING:tensorflow:From /Users/johnnie/anaconda3/lib/python3.6/site-packages/tensorflow/contrib/learn/python/learn/learn_io/data_feeder.py:100: extract_pandas_data (from tensorflow.contrib.learn.python.learn.learn_io.pandas_io) is deprecated and will be removed in a future version.\n",
      "Instructions for updating:\n",
      "Please access pandas data directly.\n",
      "WARNING:tensorflow:From /Users/johnnie/anaconda3/lib/python3.6/site-packages/tensorflow/contrib/learn/python/learn/learn_io/data_feeder.py:159: DataFeeder.__init__ (from tensorflow.contrib.learn.python.learn.learn_io.data_feeder) is deprecated and will be removed in a future version.\n",
      "Instructions for updating:\n",
      "Please use tensorflow/transform or tf.data.\n",
      "WARNING:tensorflow:From /Users/johnnie/anaconda3/lib/python3.6/site-packages/tensorflow/contrib/learn/python/learn/learn_io/data_feeder.py:340: check_array (from tensorflow.contrib.learn.python.learn.learn_io.data_feeder) is deprecated and will be removed in a future version.\n",
      "Instructions for updating:\n",
      "Please convert numpy dtypes explicitly.\n",
      "WARNING:tensorflow:float64 is not supported by many models, consider casting to float32.\n",
      "WARNING:tensorflow:From /Users/johnnie/anaconda3/lib/python3.6/site-packages/tensorflow/contrib/learn/python/learn/estimators/estimator.py:183: infer_real_valued_columns_from_input_fn (from tensorflow.contrib.learn.python.learn.estimators.estimator) is deprecated and will be removed in a future version.\n",
      "Instructions for updating:\n",
      "Please specify feature columns explicitly.\n",
      "WARNING:tensorflow:From /Users/johnnie/anaconda3/lib/python3.6/site-packages/tensorflow/contrib/learn/python/learn/estimators/dnn.py:378: multi_class_head (from tensorflow.contrib.learn.python.learn.estimators.head) is deprecated and will be removed in a future version.\n",
      "Instructions for updating:\n",
      "Please switch to tf.contrib.estimator.*_head.\n",
      "WARNING:tensorflow:From /Users/johnnie/anaconda3/lib/python3.6/site-packages/tensorflow/contrib/learn/python/learn/estimators/estimator.py:1180: BaseEstimator.__init__ (from tensorflow.contrib.learn.python.learn.estimators.estimator) is deprecated and will be removed in a future version.\n",
      "Instructions for updating:\n",
      "Please replace uses of any Estimator from tf.contrib.learn with an Estimator from tf.estimator.*\n",
      "WARNING:tensorflow:From /Users/johnnie/anaconda3/lib/python3.6/site-packages/tensorflow/contrib/learn/python/learn/estimators/estimator.py:428: RunConfig.__init__ (from tensorflow.contrib.learn.python.learn.estimators.run_config) is deprecated and will be removed in a future version.\n",
      "Instructions for updating:\n",
      "When switching to tf.estimator.Estimator, use tf.estimator.RunConfig instead.\n",
      "INFO:tensorflow:Using default config.\n",
      "WARNING:tensorflow:Using temporary folder as model directory: /var/folders/dq/s5dx7lqd1nl0kf3829swj_3w0000gn/T/tmporxp_ngr\n",
      "INFO:tensorflow:Using config: {'_task_type': None, '_task_id': 0, '_cluster_spec': <tensorflow.python.training.server_lib.ClusterSpec object at 0xb5b82b7f0>, '_master': '', '_num_ps_replicas': 0, '_num_worker_replicas': 0, '_environment': 'local', '_is_chief': True, '_evaluation_master': '', '_train_distribute': None, '_eval_distribute': None, '_device_fn': None, '_tf_config': gpu_options {\n",
      "  per_process_gpu_memory_fraction: 1.0\n",
      "}\n",
      ", '_tf_random_seed': None, '_save_summary_steps': 100, '_save_checkpoints_secs': 600, '_log_step_count_steps': 100, '_protocol': None, '_session_config': None, '_save_checkpoints_steps': None, '_keep_checkpoint_max': 5, '_keep_checkpoint_every_n_hours': 10000, '_model_dir': '/var/folders/dq/s5dx7lqd1nl0kf3829swj_3w0000gn/T/tmporxp_ngr'}\n"
     ]
    }
   ],
   "source": [
    "feature_columns = tf.contrib.learn.infer_real_valued_columns_from_input(X_train)\n",
    "classifier = tf.contrib.learn.DNNClassifier((60, 20), feature_columns=feature_columns, n_classes=2)"
   ]
  },
  {
   "cell_type": "code",
   "execution_count": 40,
   "metadata": {
    "ExecuteTime": {
     "end_time": "2018-11-11T11:43:45.675226Z",
     "start_time": "2018-11-11T11:43:38.385650Z"
    }
   },
   "outputs": [
    {
     "name": "stdout",
     "output_type": "stream",
     "text": [
      "WARNING:tensorflow:From <ipython-input-40-e3acd2cdb363>:1: calling BaseEstimator.fit (from tensorflow.contrib.learn.python.learn.estimators.estimator) with x is deprecated and will be removed after 2016-12-01.\n",
      "Instructions for updating:\n",
      "Estimator is decoupled from Scikit Learn interface by moving into\n",
      "separate class SKCompat. Arguments x, y and batch_size are only\n",
      "available in the SKCompat class, Estimator will only accept input_fn.\n",
      "Example conversion:\n",
      "  est = Estimator(...) -> est = SKCompat(Estimator(...))\n",
      "WARNING:tensorflow:From <ipython-input-40-e3acd2cdb363>:1: calling BaseEstimator.fit (from tensorflow.contrib.learn.python.learn.estimators.estimator) with y is deprecated and will be removed after 2016-12-01.\n",
      "Instructions for updating:\n",
      "Estimator is decoupled from Scikit Learn interface by moving into\n",
      "separate class SKCompat. Arguments x, y and batch_size are only\n",
      "available in the SKCompat class, Estimator will only accept input_fn.\n",
      "Example conversion:\n",
      "  est = Estimator(...) -> est = SKCompat(Estimator(...))\n",
      "WARNING:tensorflow:From <ipython-input-40-e3acd2cdb363>:1: calling BaseEstimator.fit (from tensorflow.contrib.learn.python.learn.estimators.estimator) with batch_size is deprecated and will be removed after 2016-12-01.\n",
      "Instructions for updating:\n",
      "Estimator is decoupled from Scikit Learn interface by moving into\n",
      "separate class SKCompat. Arguments x, y and batch_size are only\n",
      "available in the SKCompat class, Estimator will only accept input_fn.\n",
      "Example conversion:\n",
      "  est = Estimator(...) -> est = SKCompat(Estimator(...))\n",
      "WARNING:tensorflow:From /Users/johnnie/anaconda3/lib/python3.6/site-packages/tensorflow/contrib/learn/python/learn/estimators/estimator.py:509: SKCompat.__init__ (from tensorflow.contrib.learn.python.learn.estimators.estimator) is deprecated and will be removed in a future version.\n",
      "Instructions for updating:\n",
      "Please switch to the Estimator interface.\n",
      "WARNING:tensorflow:From /Users/johnnie/anaconda3/lib/python3.6/site-packages/tensorflow/contrib/learn/python/learn/learn_io/data_feeder.py:98: extract_dask_labels (from tensorflow.contrib.learn.python.learn.learn_io.dask_io) is deprecated and will be removed in a future version.\n",
      "Instructions for updating:\n",
      "Please feed input to tf.data to support dask.\n",
      "WARNING:tensorflow:From /Users/johnnie/anaconda3/lib/python3.6/site-packages/tensorflow/contrib/learn/python/learn/learn_io/data_feeder.py:102: extract_pandas_labels (from tensorflow.contrib.learn.python.learn.learn_io.pandas_io) is deprecated and will be removed in a future version.\n",
      "Instructions for updating:\n",
      "Please access pandas data directly.\n",
      "WARNING:tensorflow:float64 is not supported by many models, consider casting to float32.\n",
      "WARNING:tensorflow:Casting <dtype: 'int64'> labels to bool.\n",
      "WARNING:tensorflow:Casting <dtype: 'int64'> labels to bool.\n",
      "WARNING:tensorflow:Trapezoidal rule is known to produce incorrect PR-AUCs; please switch to \"careful_interpolation\" instead.\n",
      "WARNING:tensorflow:Trapezoidal rule is known to produce incorrect PR-AUCs; please switch to \"careful_interpolation\" instead.\n",
      "WARNING:tensorflow:From /Users/johnnie/anaconda3/lib/python3.6/site-packages/tensorflow/contrib/learn/python/learn/estimators/head.py:678: ModelFnOps.__new__ (from tensorflow.contrib.learn.python.learn.estimators.model_fn) is deprecated and will be removed in a future version.\n",
      "Instructions for updating:\n",
      "When switching to tf.estimator.Estimator, use tf.estimator.EstimatorSpec. You can use the `estimator_spec` method to create an equivalent one.\n",
      "INFO:tensorflow:Create CheckpointSaverHook.\n",
      "INFO:tensorflow:Graph was finalized.\n",
      "INFO:tensorflow:Running local_init_op.\n",
      "INFO:tensorflow:Done running local_init_op.\n",
      "INFO:tensorflow:Saving checkpoints for 0 into /var/folders/dq/s5dx7lqd1nl0kf3829swj_3w0000gn/T/tmporxp_ngr/model.ckpt.\n",
      "INFO:tensorflow:loss = 1.1173947, step = 1\n",
      "INFO:tensorflow:global_step/sec: 99.1228\n",
      "INFO:tensorflow:loss = 2.101709, step = 101 (1.013 sec)\n",
      "INFO:tensorflow:global_step/sec: 359.359\n",
      "INFO:tensorflow:loss = 0.7276, step = 201 (0.276 sec)\n",
      "INFO:tensorflow:global_step/sec: 375.631\n",
      "INFO:tensorflow:loss = 0.4892984, step = 301 (0.267 sec)\n",
      "INFO:tensorflow:global_step/sec: 404.942\n",
      "INFO:tensorflow:loss = 0.39098227, step = 401 (0.247 sec)\n",
      "INFO:tensorflow:global_step/sec: 419.029\n",
      "INFO:tensorflow:loss = 0.26305395, step = 501 (0.238 sec)\n",
      "INFO:tensorflow:global_step/sec: 412.718\n",
      "INFO:tensorflow:loss = 0.3635394, step = 601 (0.243 sec)\n",
      "INFO:tensorflow:global_step/sec: 423.055\n",
      "INFO:tensorflow:loss = 0.64067376, step = 701 (0.236 sec)\n",
      "INFO:tensorflow:global_step/sec: 411.553\n",
      "INFO:tensorflow:loss = 0.41022438, step = 801 (0.242 sec)\n",
      "INFO:tensorflow:global_step/sec: 436.209\n",
      "INFO:tensorflow:loss = 0.2981265, step = 901 (0.229 sec)\n",
      "INFO:tensorflow:Saving checkpoints for 1000 into /var/folders/dq/s5dx7lqd1nl0kf3829swj_3w0000gn/T/tmporxp_ngr/model.ckpt.\n",
      "INFO:tensorflow:Loss for final step: 0.099421486.\n"
     ]
    },
    {
     "data": {
      "text/plain": [
       "DNNClassifier(params={'head': <tensorflow.contrib.learn.python.learn.estimators.head._BinaryLogisticHead object at 0x1a71566358>, 'hidden_units': (60, 20), 'feature_columns': (_RealValuedColumn(column_name='', dimension=57, default_value=None, dtype=tf.float64, normalizer=None),), 'optimizer': None, 'activation_fn': <function relu at 0x138cf6ea0>, 'dropout': None, 'gradient_clip_norm': None, 'embedding_lr_multipliers': None, 'input_layer_min_slice_size': None})"
      ]
     },
     "execution_count": 40,
     "metadata": {},
     "output_type": "execute_result"
    }
   ],
   "source": [
    "classifier.fit(X_train, y_train, steps=1000, batch_size=10)"
   ]
  },
  {
   "cell_type": "code",
   "execution_count": 41,
   "metadata": {
    "ExecuteTime": {
     "end_time": "2018-11-11T11:43:46.348496Z",
     "start_time": "2018-11-11T11:43:45.679291Z"
    }
   },
   "outputs": [
    {
     "name": "stdout",
     "output_type": "stream",
     "text": [
      "WARNING:tensorflow:From /Users/johnnie/anaconda3/lib/python3.6/site-packages/tensorflow/python/util/deprecation.py:553: calling DNNClassifier.predict (from tensorflow.contrib.learn.python.learn.estimators.dnn) with outputs=None is deprecated and will be removed after 2017-03-01.\n",
      "Instructions for updating:\n",
      "Please switch to predict_classes, or set `outputs` argument.\n",
      "WARNING:tensorflow:From /Users/johnnie/anaconda3/lib/python3.6/site-packages/tensorflow/contrib/learn/python/learn/estimators/dnn.py:463: calling BaseEstimator.predict (from tensorflow.contrib.learn.python.learn.estimators.estimator) with x is deprecated and will be removed after 2016-12-01.\n",
      "Instructions for updating:\n",
      "Estimator is decoupled from Scikit Learn interface by moving into\n",
      "separate class SKCompat. Arguments x, y and batch_size are only\n",
      "available in the SKCompat class, Estimator will only accept input_fn.\n",
      "Example conversion:\n",
      "  est = Estimator(...) -> est = SKCompat(Estimator(...))\n",
      "WARNING:tensorflow:float64 is not supported by many models, consider casting to float32.\n",
      "INFO:tensorflow:Graph was finalized.\n",
      "INFO:tensorflow:Restoring parameters from /var/folders/dq/s5dx7lqd1nl0kf3829swj_3w0000gn/T/tmporxp_ngr/model.ckpt-1000\n",
      "INFO:tensorflow:Running local_init_op.\n",
      "INFO:tensorflow:Done running local_init_op.\n"
     ]
    }
   ],
   "source": [
    "y_predict = np.array(list(classifier.predict(X_test)))"
   ]
  },
  {
   "cell_type": "code",
   "execution_count": 42,
   "metadata": {
    "ExecuteTime": {
     "end_time": "2018-11-11T11:43:46.357127Z",
     "start_time": "2018-11-11T11:43:46.351807Z"
    }
   },
   "outputs": [],
   "source": [
    "from sklearn.metrics import accuracy_score"
   ]
  },
  {
   "cell_type": "code",
   "execution_count": 43,
   "metadata": {
    "ExecuteTime": {
     "end_time": "2018-11-11T11:43:46.372220Z",
     "start_time": "2018-11-11T11:43:46.361828Z"
    }
   },
   "outputs": [
    {
     "data": {
      "text/plain": [
       "0.8801042571676803"
      ]
     },
     "execution_count": 43,
     "metadata": {},
     "output_type": "execute_result"
    }
   ],
   "source": [
    "accuracy_score(y_test, y_predict)"
   ]
  }
 ],
 "metadata": {
  "kernelspec": {
   "display_name": "Python 3",
   "language": "python",
   "name": "python3"
  },
  "language_info": {
   "codemirror_mode": {
    "name": "ipython",
    "version": 3
   },
   "file_extension": ".py",
   "mimetype": "text/x-python",
   "name": "python",
   "nbconvert_exporter": "python",
   "pygments_lexer": "ipython3",
   "version": "3.6.6"
  }
 },
 "nbformat": 4,
 "nbformat_minor": 2
}
