{
 "cells": [
  {
   "cell_type": "code",
   "execution_count": 65,
   "metadata": {
    "ExecuteTime": {
     "end_time": "2018-11-10T14:55:52.683314Z",
     "start_time": "2018-11-10T14:55:52.676537Z"
    }
   },
   "outputs": [],
   "source": [
    "from sklearn.neural_network import MLPClassifier"
   ]
  },
  {
   "cell_type": "code",
   "execution_count": 66,
   "metadata": {
    "ExecuteTime": {
     "end_time": "2018-11-10T14:55:52.701200Z",
     "start_time": "2018-11-10T14:55:52.693252Z"
    }
   },
   "outputs": [],
   "source": [
    "X = [[0., 0.], [1., 1.]]\n",
    "y = [0, 1]"
   ]
  },
  {
   "cell_type": "code",
   "execution_count": 67,
   "metadata": {
    "ExecuteTime": {
     "end_time": "2018-11-10T14:55:52.712640Z",
     "start_time": "2018-11-10T14:55:52.705929Z"
    }
   },
   "outputs": [],
   "source": [
    "clf = MLPClassifier((10,2), solver='lbfgs', alpha=1e-5, random_state=1)"
   ]
  },
  {
   "cell_type": "code",
   "execution_count": 68,
   "metadata": {
    "ExecuteTime": {
     "end_time": "2018-11-10T14:55:52.747645Z",
     "start_time": "2018-11-10T14:55:52.717818Z"
    }
   },
   "outputs": [
    {
     "data": {
      "text/plain": [
       "MLPClassifier(activation='relu', alpha=1e-05, batch_size='auto', beta_1=0.9,\n",
       "       beta_2=0.999, early_stopping=False, epsilon=1e-08,\n",
       "       hidden_layer_sizes=(10, 2), learning_rate='constant',\n",
       "       learning_rate_init=0.001, max_iter=200, momentum=0.9,\n",
       "       nesterovs_momentum=True, power_t=0.5, random_state=1, shuffle=True,\n",
       "       solver='lbfgs', tol=0.0001, validation_fraction=0.1, verbose=False,\n",
       "       warm_start=False)"
      ]
     },
     "execution_count": 68,
     "metadata": {},
     "output_type": "execute_result"
    }
   ],
   "source": [
    "clf.fit(X, y)"
   ]
  },
  {
   "cell_type": "code",
   "execution_count": 69,
   "metadata": {
    "ExecuteTime": {
     "end_time": "2018-11-10T14:55:52.765412Z",
     "start_time": "2018-11-10T14:55:52.753224Z"
    }
   },
   "outputs": [
    {
     "data": {
      "text/plain": [
       "array([1, 0])"
      ]
     },
     "execution_count": 69,
     "metadata": {},
     "output_type": "execute_result"
    }
   ],
   "source": [
    "clf.predict([[2., 2.], [-1., -2.]])"
   ]
  },
  {
   "cell_type": "code",
   "execution_count": 70,
   "metadata": {
    "ExecuteTime": {
     "end_time": "2018-11-10T14:55:52.776455Z",
     "start_time": "2018-11-10T14:55:52.768771Z"
    }
   },
   "outputs": [],
   "source": [
    "import matplotlib.pyplot as plt\n",
    "from sklearn.neural_network import MLPClassifier\n",
    "from keras.datasets import mnist"
   ]
  },
  {
   "cell_type": "code",
   "execution_count": 71,
   "metadata": {
    "ExecuteTime": {
     "end_time": "2018-11-10T14:55:53.866868Z",
     "start_time": "2018-11-10T14:55:52.781373Z"
    }
   },
   "outputs": [],
   "source": [
    "mnist_train, mnist_test = mnist.load_data()\n",
    "X_train, y_train = mnist_train[0], mnist_train[1]\n",
    "X_test, y_test = mnist_test[0], mnist_test[1]\n",
    "X_train = X_train.reshape(X_train.shape[0], X_train.shape[1] * X_train.shape[2]) / 255\n",
    "X_test = X_test.reshape(X_test.shape[0], X_test.shape[1] * X_test.shape[2]) / 255"
   ]
  },
  {
   "cell_type": "code",
   "execution_count": 72,
   "metadata": {
    "ExecuteTime": {
     "end_time": "2018-11-10T14:55:53.881802Z",
     "start_time": "2018-11-10T14:55:53.871770Z"
    }
   },
   "outputs": [],
   "source": [
    "mlp = MLPClassifier((50,5), max_iter=100, alpha=1e-4, solver='sgd', verbose=0, tol=1e-4, random_state=1, learning_rate_init=.1)"
   ]
  },
  {
   "cell_type": "code",
   "execution_count": 73,
   "metadata": {
    "ExecuteTime": {
     "end_time": "2018-11-10T14:56:36.740015Z",
     "start_time": "2018-11-10T14:55:53.885709Z"
    }
   },
   "outputs": [
    {
     "data": {
      "text/plain": [
       "MLPClassifier(activation='relu', alpha=0.0001, batch_size='auto', beta_1=0.9,\n",
       "       beta_2=0.999, early_stopping=False, epsilon=1e-08,\n",
       "       hidden_layer_sizes=(50, 5), learning_rate='constant',\n",
       "       learning_rate_init=0.1, max_iter=100, momentum=0.9,\n",
       "       nesterovs_momentum=True, power_t=0.5, random_state=1, shuffle=True,\n",
       "       solver='sgd', tol=0.0001, validation_fraction=0.1, verbose=0,\n",
       "       warm_start=False)"
      ]
     },
     "execution_count": 73,
     "metadata": {},
     "output_type": "execute_result"
    }
   ],
   "source": [
    "mlp.fit(X_train, y_train)"
   ]
  },
  {
   "cell_type": "code",
   "execution_count": 74,
   "metadata": {
    "ExecuteTime": {
     "end_time": "2018-11-10T14:56:37.318777Z",
     "start_time": "2018-11-10T14:56:36.745965Z"
    }
   },
   "outputs": [
    {
     "data": {
      "text/plain": [
       "0.9899666666666667"
      ]
     },
     "execution_count": 74,
     "metadata": {},
     "output_type": "execute_result"
    }
   ],
   "source": [
    "mlp.score(X_train, y_train)"
   ]
  },
  {
   "cell_type": "code",
   "execution_count": 75,
   "metadata": {
    "ExecuteTime": {
     "end_time": "2018-11-10T14:56:37.378021Z",
     "start_time": "2018-11-10T14:56:37.321937Z"
    }
   },
   "outputs": [
    {
     "data": {
      "text/plain": [
       "0.9663"
      ]
     },
     "execution_count": 75,
     "metadata": {},
     "output_type": "execute_result"
    }
   ],
   "source": [
    "mlp.score(X_test, y_test)"
   ]
  },
  {
   "cell_type": "code",
   "execution_count": 91,
   "metadata": {
    "ExecuteTime": {
     "end_time": "2018-11-10T15:08:53.356327Z",
     "start_time": "2018-11-10T15:08:53.350256Z"
    }
   },
   "outputs": [],
   "source": [
    "import glob\n",
    "import numpy as np\n",
    "from sklearn.feature_extraction.text import CountVectorizer\n",
    "from sklearn.model_selection import train_test_split"
   ]
  },
  {
   "cell_type": "code",
   "execution_count": 83,
   "metadata": {
    "ExecuteTime": {
     "end_time": "2018-11-10T15:06:52.034676Z",
     "start_time": "2018-11-10T15:06:52.023062Z"
    }
   },
   "outputs": [],
   "source": [
    "def features_and_label(path, train=True, attack=False):\n",
    "    if train:\n",
    "        fileList = glob.glob(path + '*.txt')\n",
    "        featuresList_train = []\n",
    "        for file in fileList:\n",
    "            featuresList_train.append(' '.join(np.loadtxt(file).astype('int').astype('str')))\n",
    "        label_train = [0] * len(fileList)\n",
    "        return featuresList_train, label_train\n",
    "    if attack:\n",
    "        fileList = glob.glob(path + '*.txt')\n",
    "        featuresList_attack = []\n",
    "        for file in fileList:\n",
    "            featuresList_attack.append(' '.join(np.loadtxt(file).astype('int').astype('str'))) \n",
    "        label_attack = [1] * len(fileList)\n",
    "        return featuresList_attack, label_attack"
   ]
  },
  {
   "cell_type": "code",
   "execution_count": 93,
   "metadata": {
    "ExecuteTime": {
     "end_time": "2018-11-10T15:09:21.493604Z",
     "start_time": "2018-11-10T15:09:18.790599Z"
    }
   },
   "outputs": [],
   "source": [
    "normal, normal_label = features_and_label('./数据集/ADFA-LD/Training_Data_Master/')\n",
    "attack, attack_label = features_and_label('./数据集/ADFA-LD/Attack_Data_Master/Java_Meterpreter_*/', train=False, attack=True)\n",
    "\n",
    "countvec = CountVectorizer()\n",
    "X = countvec.fit_transform(normal + attack).toarray()\n",
    "y = normal_label + attack_label\n",
    "\n",
    "X_train, X_val, y_train, y_val = train_test_split(X, y)"
   ]
  },
  {
   "cell_type": "code",
   "execution_count": 119,
   "metadata": {
    "ExecuteTime": {
     "end_time": "2018-11-10T15:12:28.082150Z",
     "start_time": "2018-11-10T15:12:26.524110Z"
    }
   },
   "outputs": [
    {
     "data": {
      "text/plain": [
       "MLPClassifier(activation='relu', alpha=0.0001, batch_size='auto', beta_1=0.9,\n",
       "       beta_2=0.999, early_stopping=False, epsilon=1e-08,\n",
       "       hidden_layer_sizes=(50, 10), learning_rate='constant',\n",
       "       learning_rate_init=0.1, max_iter=1000, momentum=0.9,\n",
       "       nesterovs_momentum=True, power_t=0.5, random_state=1, shuffle=True,\n",
       "       solver='lbfgs', tol=0.0001, validation_fraction=0.1, verbose=0,\n",
       "       warm_start=False)"
      ]
     },
     "execution_count": 119,
     "metadata": {},
     "output_type": "execute_result"
    }
   ],
   "source": [
    "mlp = MLPClassifier((50,10), max_iter=1000, alpha=1e-4, solver='lbfgs', verbose=0, tol=1e-4, random_state=1, learning_rate_init=.1)\n",
    "\n",
    "mlp.fit(X_train, y_train)"
   ]
  },
  {
   "cell_type": "code",
   "execution_count": 120,
   "metadata": {
    "ExecuteTime": {
     "end_time": "2018-11-10T15:12:28.098866Z",
     "start_time": "2018-11-10T15:12:28.086022Z"
    }
   },
   "outputs": [
    {
     "data": {
      "text/plain": [
       "0.975"
      ]
     },
     "execution_count": 120,
     "metadata": {},
     "output_type": "execute_result"
    }
   ],
   "source": [
    "mlp.score(X_val, y_val)"
   ]
  }
 ],
 "metadata": {
  "kernelspec": {
   "display_name": "Python 3",
   "language": "python",
   "name": "python3"
  },
  "language_info": {
   "codemirror_mode": {
    "name": "ipython",
    "version": 3
   },
   "file_extension": ".py",
   "mimetype": "text/x-python",
   "name": "python",
   "nbconvert_exporter": "python",
   "pygments_lexer": "ipython3",
   "version": "3.6.6"
  }
 },
 "nbformat": 4,
 "nbformat_minor": 2
}
