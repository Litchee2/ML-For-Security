{
 "cells": [
  {
   "cell_type": "code",
   "execution_count": 1,
   "metadata": {
    "ExecuteTime": {
     "end_time": "2018-11-05T07:47:23.871056Z",
     "start_time": "2018-11-05T07:47:21.073512Z"
    }
   },
   "outputs": [],
   "source": [
    "from sklearn.tree import DecisionTreeClassifier"
   ]
  },
  {
   "cell_type": "code",
   "execution_count": 2,
   "metadata": {
    "ExecuteTime": {
     "end_time": "2018-11-05T07:47:23.896660Z",
     "start_time": "2018-11-05T07:47:23.874652Z"
    }
   },
   "outputs": [
    {
     "data": {
      "text/plain": [
       "DecisionTreeClassifier(class_weight=None, criterion='gini', max_depth=None,\n",
       "            max_features=None, max_leaf_nodes=None,\n",
       "            min_impurity_decrease=0.0, min_impurity_split=None,\n",
       "            min_samples_leaf=1, min_samples_split=2,\n",
       "            min_weight_fraction_leaf=0.0, presort=False, random_state=None,\n",
       "            splitter='best')"
      ]
     },
     "execution_count": 2,
     "metadata": {},
     "output_type": "execute_result"
    }
   ],
   "source": [
    "X = [[0,0],[1,1]]\n",
    "Y = [0,1]\n",
    "\n",
    "clf = DecisionTreeClassifier()\n",
    "clf.fit(X, Y)"
   ]
  },
  {
   "cell_type": "code",
   "execution_count": 3,
   "metadata": {
    "ExecuteTime": {
     "end_time": "2018-11-05T07:47:23.909285Z",
     "start_time": "2018-11-05T07:47:23.899715Z"
    }
   },
   "outputs": [
    {
     "data": {
      "text/plain": [
       "array([1])"
      ]
     },
     "execution_count": 3,
     "metadata": {},
     "output_type": "execute_result"
    }
   ],
   "source": [
    "clf.predict([[2,2]])"
   ]
  },
  {
   "cell_type": "code",
   "execution_count": 24,
   "metadata": {
    "ExecuteTime": {
     "end_time": "2018-11-05T08:03:18.613643Z",
     "start_time": "2018-11-05T08:03:18.607132Z"
    }
   },
   "outputs": [],
   "source": [
    "from sklearn.datasets import load_iris\n",
    "from sklearn.tree import DecisionTreeClassifier, export_graphviz\n",
    "from sklearn.model_selection import train_test_split, cross_val_score\n",
    "import pydotplus\n",
    "import pandas as pd"
   ]
  },
  {
   "cell_type": "code",
   "execution_count": 5,
   "metadata": {
    "ExecuteTime": {
     "end_time": "2018-11-05T07:47:25.076216Z",
     "start_time": "2018-11-05T07:47:24.793438Z"
    }
   },
   "outputs": [
    {
     "data": {
      "text/plain": [
       "True"
      ]
     },
     "execution_count": 5,
     "metadata": {},
     "output_type": "execute_result"
    }
   ],
   "source": [
    "iris = load_iris()\n",
    "\n",
    "clf = DecisionTreeClassifier()\n",
    "clf.fit(iris.data, iris.target)\n",
    "dot_data = export_graphviz(clf, out_file=None)\n",
    "graph = pydotplus.graph_from_dot_data(dot_data)\n",
    "graph.write_pdf('./数据集/iris.pdf')"
   ]
  },
  {
   "cell_type": "markdown",
   "metadata": {},
   "source": [
    "使用决策树来检测POP3暴力破解，仍然使用KDD99的数据集，提取相关的网络特征及TCP协议内容相关特征。"
   ]
  },
  {
   "cell_type": "code",
   "execution_count": 6,
   "metadata": {
    "ExecuteTime": {
     "end_time": "2018-11-05T07:47:25.092008Z",
     "start_time": "2018-11-05T07:47:25.081190Z"
    }
   },
   "outputs": [],
   "source": [
    "def load_and_get_features_label(filename, train=True, test=False):\n",
    "    if train:\n",
    "        kdd99_train = pd.read_csv(filename, header=None)\n",
    "        pop3_train = kdd99_train[kdd99_train[41].str.contains('normal|guess_passwd', regex=True)]\n",
    "        pop3_train = pop3_train[pop3_train[2] == 'pop_3']\n",
    "        features_train = pd.concat([pop3_train[0],pop3_train[pop3_train.columns[4:8]],pop3_train[pop3_train.columns[22:30]]], axis=1)\n",
    "        label = pop3_train[pop3_train.columns[-1]]\n",
    "        return features_train,label\n",
    "    if test:\n",
    "        kdd99_test = pd.read_csv(filename, header=None)\n",
    "        features_test = pd.concat([kdd99_test[0],kdd99_test[kdd99_test.columns[4:8]],kdd99_test[kdd99_test.columns[22:30]]], axis=1)\n",
    "        return features_test"
   ]
  },
  {
   "cell_type": "code",
   "execution_count": 7,
   "metadata": {
    "ExecuteTime": {
     "end_time": "2018-11-05T07:48:13.257931Z",
     "start_time": "2018-11-05T07:47:25.095776Z"
    }
   },
   "outputs": [],
   "source": [
    "features_train, label = load_and_get_features_label('./数据集/KDD 99/kddcup.data.corrected')"
   ]
  },
  {
   "cell_type": "code",
   "execution_count": 8,
   "metadata": {
    "ExecuteTime": {
     "end_time": "2018-11-05T07:48:13.288623Z",
     "start_time": "2018-11-05T07:48:13.262473Z"
    }
   },
   "outputs": [
    {
     "data": {
      "text/plain": [
       "1.0"
      ]
     },
     "execution_count": 8,
     "metadata": {},
     "output_type": "execute_result"
    }
   ],
   "source": [
    "clf = DecisionTreeClassifier()\n",
    "X_train, X_val, y_train, y_val = train_test_split(features_train, label)\n",
    "clf.fit(X_train, y_train)\n",
    "clf.score(X_val, y_val)"
   ]
  },
  {
   "cell_type": "code",
   "execution_count": 9,
   "metadata": {
    "ExecuteTime": {
     "end_time": "2018-11-05T07:48:37.919758Z",
     "start_time": "2018-11-05T07:48:13.292164Z"
    }
   },
   "outputs": [],
   "source": [
    "features_test = load_and_get_features_label('./数据集/KDD 99/kddcup.testdata.unlabeled', train=False, test=True)"
   ]
  },
  {
   "cell_type": "code",
   "execution_count": 10,
   "metadata": {
    "ExecuteTime": {
     "end_time": "2018-11-05T07:48:38.555005Z",
     "start_time": "2018-11-05T07:48:37.921646Z"
    }
   },
   "outputs": [],
   "source": [
    "X_test = features_test\n",
    "y_predict = clf.predict(X_test)"
   ]
  },
  {
   "cell_type": "code",
   "execution_count": 15,
   "metadata": {
    "ExecuteTime": {
     "end_time": "2018-11-05T07:50:13.512618Z",
     "start_time": "2018-11-05T07:50:13.454964Z"
    }
   },
   "outputs": [
    {
     "data": {
      "text/plain": [
       "array([], dtype=object)"
      ]
     },
     "execution_count": 15,
     "metadata": {},
     "output_type": "execute_result"
    }
   ],
   "source": [
    "y_predict[y_predict == 'guess_passwd']"
   ]
  },
  {
   "cell_type": "code",
   "execution_count": 16,
   "metadata": {
    "ExecuteTime": {
     "end_time": "2018-11-05T07:50:29.093558Z",
     "start_time": "2018-11-05T07:50:29.084524Z"
    }
   },
   "outputs": [
    {
     "data": {
      "text/plain": [
       "array(['normal.'], dtype=object)"
      ]
     },
     "execution_count": 16,
     "metadata": {},
     "output_type": "execute_result"
    }
   ],
   "source": [
    "label.unique()"
   ]
  },
  {
   "cell_type": "code",
   "execution_count": 17,
   "metadata": {
    "ExecuteTime": {
     "end_time": "2018-11-05T08:02:00.280299Z",
     "start_time": "2018-11-05T08:02:00.274956Z"
    }
   },
   "outputs": [],
   "source": [
    "from sklearn.feature_extraction.text import CountVectorizer"
   ]
  },
  {
   "cell_type": "code",
   "execution_count": 21,
   "metadata": {
    "ExecuteTime": {
     "end_time": "2018-11-05T08:02:18.492607Z",
     "start_time": "2018-11-05T08:02:18.486795Z"
    }
   },
   "outputs": [],
   "source": [
    "import glob\n",
    "import numpy as np"
   ]
  },
  {
   "cell_type": "code",
   "execution_count": 22,
   "metadata": {
    "ExecuteTime": {
     "end_time": "2018-11-05T08:02:19.121529Z",
     "start_time": "2018-11-05T08:02:19.109936Z"
    }
   },
   "outputs": [],
   "source": [
    "def features_and_label(path, train=True, attack=False):\n",
    "    if train:\n",
    "        fileList = glob.glob(path + '*.txt')\n",
    "        featuresList_train = []\n",
    "        for file in fileList:\n",
    "            featuresList_train.append(' '.join(np.loadtxt(file).astype('int').astype('str')))\n",
    "        label_train = [0] * len(fileList)\n",
    "        return featuresList_train, label_train\n",
    "    if attack:\n",
    "        fileList = glob.glob(path + '*.txt')\n",
    "        featuresList_attack = []\n",
    "        for file in fileList:\n",
    "            featuresList_attack.append(' '.join(np.loadtxt(file).astype('int').astype('str'))) \n",
    "        label_attack = [1] * len(fileList)\n",
    "        return featuresList_attack, label_attack"
   ]
  },
  {
   "cell_type": "code",
   "execution_count": 36,
   "metadata": {
    "ExecuteTime": {
     "end_time": "2018-11-05T08:24:34.799608Z",
     "start_time": "2018-11-05T08:24:32.662246Z"
    }
   },
   "outputs": [
    {
     "data": {
      "text/plain": [
       "0.9678714859437751"
      ]
     },
     "execution_count": 36,
     "metadata": {},
     "output_type": "execute_result"
    }
   ],
   "source": [
    "normal, normal_label = features_and_label('./数据集/ADFA-LD/Training_Data_Master/')\n",
    "attack, attack_label = features_and_label('./数据集/ADFA-LD/Attack_Data_Master/Hydra_FTP_*/', train=False, attack=True)\n",
    "\n",
    "countvec = CountVectorizer()\n",
    "X = countvec.fit_transform(normal + attack)\n",
    "y = normal_label + attack_label\n",
    "\n",
    "X_train, X_val, y_train, y_val = train_test_split(X, y)\n",
    "\n",
    "clf = DecisionTreeClassifier()\n",
    "rfc = RandomForestClassifier(n_estimators=100)\n",
    "clf.fit(X_train, y_train)\n",
    "rfc.fit(X_train, y_train)\n",
    "clf.score(X_val, y_val)"
   ]
  },
  {
   "cell_type": "code",
   "execution_count": 37,
   "metadata": {
    "ExecuteTime": {
     "end_time": "2018-11-05T08:24:36.251559Z",
     "start_time": "2018-11-05T08:24:36.159039Z"
    }
   },
   "outputs": [
    {
     "data": {
      "text/plain": [
       "0.9657270727072709"
      ]
     },
     "execution_count": 37,
     "metadata": {},
     "output_type": "execute_result"
    }
   ],
   "source": [
    "cross_val_score(clf, X, y, cv=10).mean()"
   ]
  },
  {
   "cell_type": "code",
   "execution_count": 38,
   "metadata": {
    "ExecuteTime": {
     "end_time": "2018-11-05T08:24:40.403226Z",
     "start_time": "2018-11-05T08:24:38.818271Z"
    }
   },
   "outputs": [
    {
     "data": {
      "text/plain": [
       "0.9889088908890888"
      ]
     },
     "execution_count": 38,
     "metadata": {},
     "output_type": "execute_result"
    }
   ],
   "source": [
    "cross_val_score(rfc, X, y, cv=10).mean()"
   ]
  },
  {
   "cell_type": "code",
   "execution_count": 27,
   "metadata": {
    "ExecuteTime": {
     "end_time": "2018-11-05T08:06:03.145008Z",
     "start_time": "2018-11-05T08:06:02.509396Z"
    }
   },
   "outputs": [
    {
     "data": {
      "text/plain": [
       "True"
      ]
     },
     "execution_count": 27,
     "metadata": {},
     "output_type": "execute_result"
    }
   ],
   "source": [
    "dot_data = export_graphviz(clf)\n",
    "graph = pydotplus.graph_from_dot_data(dot_data)\n",
    "graph.write_pdf('./数据集/ftp.pdf')"
   ]
  },
  {
   "cell_type": "code",
   "execution_count": 28,
   "metadata": {
    "ExecuteTime": {
     "end_time": "2018-11-05T08:20:30.332459Z",
     "start_time": "2018-11-05T08:20:30.325881Z"
    }
   },
   "outputs": [],
   "source": [
    "from sklearn.model_selection import cross_val_score\n",
    "from sklearn.datasets import make_blobs\n",
    "from sklearn.ensemble import RandomForestClassifier\n",
    "from sklearn.ensemble import ExtraTreesClassifier\n",
    "from sklearn.tree import DecisionTreeClassifier"
   ]
  },
  {
   "cell_type": "code",
   "execution_count": 29,
   "metadata": {
    "ExecuteTime": {
     "end_time": "2018-11-05T08:21:14.976303Z",
     "start_time": "2018-11-05T08:21:14.950149Z"
    }
   },
   "outputs": [],
   "source": [
    "X, y = make_blobs(n_samples=10000, n_features=10, centers=100, random_state=0)"
   ]
  },
  {
   "cell_type": "code",
   "execution_count": 32,
   "metadata": {
    "ExecuteTime": {
     "end_time": "2018-11-05T08:22:46.144311Z",
     "start_time": "2018-11-05T08:22:44.317184Z"
    }
   },
   "outputs": [
    {
     "data": {
      "text/plain": [
       "0.9828000000000001"
      ]
     },
     "execution_count": 32,
     "metadata": {},
     "output_type": "execute_result"
    }
   ],
   "source": [
    "clf = DecisionTreeClassifier(max_depth=None, min_samples_split=2, random_state=0)\n",
    "cross_val_score(clf, X, y, cv=10).mean()"
   ]
  }
 ],
 "metadata": {
  "kernelspec": {
   "display_name": "Python 3",
   "language": "python",
   "name": "python3"
  },
  "language_info": {
   "codemirror_mode": {
    "name": "ipython",
    "version": 3
   },
   "file_extension": ".py",
   "mimetype": "text/x-python",
   "name": "python",
   "nbconvert_exporter": "python",
   "pygments_lexer": "ipython3",
   "version": "3.6.6"
  }
 },
 "nbformat": 4,
 "nbformat_minor": 2
}
