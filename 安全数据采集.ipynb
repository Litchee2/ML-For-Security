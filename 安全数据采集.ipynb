{
 "cells": [
  {
   "cell_type": "markdown",
   "metadata": {},
   "source": [
    "网络数据采集\n",
    "\n",
    "wireshark\n",
    "\n",
    "* 更适合用于终端的网络流量分析，对于流量的数据包抓取与分析将是一个困难的事，一是数据包过大容易出现丢包，打开也慢，分析统计也就更是问题\n",
    "* 适合于小数据包的取证分析\n",
    "\n",
    "netflow/sflow\n",
    "\n",
    "* 交换机/路由器端进出口流量的收集与分析\n",
    "* 一般是思科等设备专用\n",
    "\n",
    "bro/argus\n",
    "\n",
    "* 适合于网络监控，异常识别\n",
    "* 提取网络特征"
   ]
  },
  {
   "cell_type": "markdown",
   "metadata": {},
   "source": [
    "日志收集工具\n",
    "\n",
    "* Logstash\n",
    "* Filebeat\n",
    "* Flume\n",
    "* Fluentd\n",
    "* Logagent\n",
    "* rsyslog\n",
    "* syslog-ng\n",
    "* Scribe\n",
    "* Logtail\n",
    "* Greylog2\n",
    "\n",
    "参考：https://www.cnblogs.com/wzj4858/p/8252730.html\n",
    "https://www.alibabacloud.com/help/zh/doc-detail/44259.htm\n",
    "https://www.cnblogs.com/chenny7/p/4272261.html\n",
    "https://testerhome.com/topics/3026\n",
    "https://my.oschina.net/HeAlvin/blog/378262"
   ]
  }
 ],
 "metadata": {
  "kernelspec": {
   "display_name": "Python 3",
   "language": "python",
   "name": "python3"
  },
  "language_info": {
   "codemirror_mode": {
    "name": "ipython",
    "version": 3
   },
   "file_extension": ".py",
   "mimetype": "text/x-python",
   "name": "python",
   "nbconvert_exporter": "python",
   "pygments_lexer": "ipython3",
   "version": "3.7.0"
  }
 },
 "nbformat": 4,
 "nbformat_minor": 2
}
